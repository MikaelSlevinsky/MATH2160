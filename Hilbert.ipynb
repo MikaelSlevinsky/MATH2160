{
 "cells": [
  {
   "cell_type": "code",
   "execution_count": 1,
   "metadata": {
    "collapsed": false,
    "deletable": true,
    "editable": true
   },
   "outputs": [
    {
     "data": {
      "text/html": [
       "<div id=\"interact-js-shim\">\n",
       "    <script charset=\"utf-8\">\n",
       "(function (IPython, $, _, MathJax) {\n",
       "    $.event.special.destroyed = {\n",
       "\tremove: function(o) {\n",
       "\t    if (o.handler) {\n",
       "\t\to.handler.apply(this, arguments)\n",
       "\t    }\n",
       "\t}\n",
       "    }\n",
       "\n",
       "    var OutputArea = IPython.version >= \"4.0.0\" ? require(\"notebook/js/outputarea\").OutputArea : IPython.OutputArea;\n",
       "\n",
       "    var redrawValue = function (container, type, val) {\n",
       "\tvar selector = $(\"<div/>\");\n",
       "\tvar oa = new OutputArea(_.extend(selector, {\n",
       "\t    selector: selector,\n",
       "\t    prompt_area: true,\n",
       "\t    events: IPython.events,\n",
       "\t    keyboard_manager: IPython.keyboard_manager\n",
       "\t})); // Hack to work with IPython 2.1.0\n",
       "\n",
       "\tswitch (type) {\n",
       "\tcase \"image/png\":\n",
       "            var _src = 'data:' + type + ';base64,' + val;\n",
       "\t    $(container).find(\"img\").attr('src', _src);\n",
       "\t    break;\n",
       "\tcase \"text/latex\":\n",
       "\t\tif (MathJax){\n",
       "\t\t\tvar math = MathJax.Hub.getAllJax(container)[0];\n",
       "\t\t\tMathJax.Hub.Queue([\"Text\", math, val.replace(/^\\${1,2}|\\${1,2}$/g, '')]);\n",
       "\t\t\tbreak;\n",
       "\t\t}\n",
       "\tdefault:\n",
       "\t    var toinsert = OutputArea.append_map[type].apply(\n",
       "\t\toa, [val, {}, selector]\n",
       "\t    );\n",
       "\t    $(container).empty().append(toinsert.contents());\n",
       "\t    selector.remove();\n",
       "\t}\n",
       "    }\n",
       "\n",
       "\n",
       "    $(document).ready(function() {\n",
       "\tfunction initComm(evt, data) {\n",
       "\t    var comm_manager = data.kernel.comm_manager;\n",
       "        //_.extend(comm_manager.targets, require(\"widgets/js/widget\"))\n",
       "\t    comm_manager.register_target(\"Signal\", function (comm) {\n",
       "            comm.on_msg(function (msg) {\n",
       "                var val = msg.content.data.value;\n",
       "                $(\".signal-\" + comm.comm_id).each(function() {\n",
       "                var type = $(this).data(\"type\");\n",
       "                if (typeof(val[type]) !== \"undefined\" && val[type] !== null) {\n",
       "                    redrawValue(this, type, val[type], type);\n",
       "                }\n",
       "                });\n",
       "                delete val;\n",
       "                delete msg.content.data.value;\n",
       "            });\n",
       "\t    });\n",
       "\n",
       "\t    // coordingate with Comm and redraw Signals\n",
       "\t    // XXX: Test using Reactive here to improve performance\n",
       "\t    $([IPython.events]).on(\n",
       "\t\t'output_appended.OutputArea', function (event, type, value, md, toinsert) {\n",
       "\t\t    if (md && md.reactive) {\n",
       "                // console.log(md.comm_id);\n",
       "                toinsert.addClass(\"signal-\" + md.comm_id);\n",
       "                toinsert.data(\"type\", type);\n",
       "                // Signal back indicating the mimetype required\n",
       "                var comm_manager = IPython.notebook.kernel.comm_manager;\n",
       "                var comm = comm_manager.comms[md.comm_id];\n",
       "                comm.then(function (c) {\n",
       "                    c.send({action: \"subscribe_mime\",\n",
       "                       mime: type});\n",
       "                    toinsert.bind(\"destroyed\", function() {\n",
       "                        c.send({action: \"unsubscribe_mime\",\n",
       "                               mime: type});\n",
       "                    });\n",
       "                })\n",
       "\t\t    }\n",
       "\t    });\n",
       "\t}\n",
       "\n",
       "\ttry {\n",
       "\t    // try to initialize right away. otherwise, wait on the status_started event.\n",
       "\t    initComm(undefined, IPython.notebook);\n",
       "\t} catch (e) {\n",
       "\t    $([IPython.events]).on('kernel_created.Kernel kernel_created.Session', initComm);\n",
       "\t}\n",
       "    });\n",
       "})(IPython, jQuery, _, MathJax);\n",
       "</script>\n",
       "    <script>\n",
       "        window.interactLoadedFlag = true\n",
       "       $(\"#interact-js-shim\").bind(\"destroyed\", function () {\n",
       "           if (window.interactLoadedFlag) {\n",
       "               console.warn(\"JavaScript required by Interact will be removed if you remove this cell or run using Interact more than once.\")\n",
       "           }\n",
       "       })\n",
       "       $([IPython.events]).on(\"kernel_starting.Kernel kernel_restarting.Kernel\", function () { window.interactLoadedFlag = false })\n",
       "   </script>\n",
       "</div>"
      ]
     },
     "metadata": {},
     "output_type": "display_data"
    }
   ],
   "source": [
    "using Interact"
   ]
  },
  {
   "cell_type": "markdown",
   "metadata": {
    "deletable": true,
    "editable": true
   },
   "source": [
    "# A cautionary tale of best polynomial approximation in $L^2$ without orthogonal polynomials\n",
    "\n",
    "Consider the problem of finding the best polynomial approximation in $L^2([0,1],{\\rm\\,d x})$ using the monomial basis:\n",
    "$$\n",
    "p_n(x) = \\alpha_0 + \\alpha_1 x + \\cdots + \\alpha_n x^n.\n",
    "$$\n",
    "Then, we create the matrix that consists of all the inner products of the basis $\\{ x^i\\}_{i=0}^n$ with the monomials $\\{ x^k \\}_{k=0}^n$ by Theorem 3.2.1. This is equivalent to the linear system:\n",
    "$$\n",
    "A \\alpha = \\varphi,\n",
    "$$\n",
    "or:\n",
    "$$\n",
    "\\begin{bmatrix}\n",
    "1 & \\frac{1}{2} & \\frac{1}{3} & \\cdots & \\frac{1}{n+1}\\\\\n",
    "\\frac{1}{2} & \\frac{1}{3} & \\frac{1}{4} & \\cdots & \\frac{1}{n+2}\\\\\n",
    "\\frac{1}{3} & \\frac{1}{4} & \\frac{1}{5} & \\cdots & \\frac{1}{n+3}\\\\\n",
    "\\vdots & \\vdots & \\vdots & \\ddots & \\vdots\\\\\n",
    "\\frac{1}{n+1} & \\frac{1}{n+2} & \\frac{1}{n+3} & \\cdots & \\frac{1}{2n+1}\n",
    "\\end{bmatrix}\n",
    "\\begin{bmatrix} \\alpha_0\\\\\\alpha_1\\\\\\alpha_2\\\\\\vdots\\\\\\alpha_n\\end{bmatrix}\n",
    "=\n",
    "\\begin{bmatrix} \\langle 1, f\\rangle\\\\\\langle x, f\\rangle\\\\\\langle x^2, f\\rangle\\\\\\vdots\\\\\\langle x^n, f\\rangle\\end{bmatrix}\n",
    "$$\n",
    "First, we try to approximate $x^k$ using degree-$n$ polynomials, for $k \\le n$. Surely, we expect to get the exact result. In this case, the right-hand side is:\n",
    "$$\n",
    "\\begin{bmatrix} \\langle 1, f\\rangle\\\\\\langle x, f\\rangle\\\\\\langle x^2, f\\rangle\\\\\\vdots\\\\\\langle x^n, f\\rangle\\end{bmatrix}\n",
    "=\n",
    "\\begin{bmatrix} \\frac{1}{k+1}\\\\\\frac{1}{k+2}\\\\\\frac{1}{k+3}\\\\\\vdots\\\\\\frac{1}{k+n+1}\\end{bmatrix}\n",
    "$$\n",
    "And to begin, we try everything in rational arithmetic to show that we do indeed get the right answer."
   ]
  },
  {
   "cell_type": "code",
   "execution_count": 2,
   "metadata": {
    "collapsed": false,
    "deletable": true,
    "editable": true
   },
   "outputs": [
    {
     "data": {
      "text/plain": [
       "(::#29) (generic function with 1 method)"
      ]
     },
     "execution_count": 2,
     "metadata": {},
     "output_type": "execute_result"
    }
   ],
   "source": [
    "hilbert_rational = n -> 1.//((0:n).+(0:n)'+1)\n",
    "φ_rational = (n,k) -> 1.//(k+1:k+n+1)"
   ]
  },
  {
   "cell_type": "code",
   "execution_count": 7,
   "metadata": {
    "collapsed": false,
    "deletable": true,
    "editable": true
   },
   "outputs": [
    {
     "data": {
      "text/html": [],
      "text/plain": [
       "Interact.Options{:SelectionSlider,Int64}(20: \"input-7\" = 7 Int64 , \"n\", 7, \"7\", Interact.OptionDict(DataStructures.OrderedDict(\"0\"=>0,\"1\"=>1,\"2\"=>2,\"3\"=>3,\"4\"=>4,\"5\"=>5,\"6\"=>6,\"7\"=>7,\"8\"=>8,\"9\"=>9…), Dict(2=>\"2\",11=>\"11\",0=>\"0\",7=>\"7\",9=>\"9\",10=>\"10\",8=>\"8\",6=>\"6\",4=>\"4\",3=>\"3\"…)), Any[], Any[], true, \"horizontal\")"
      ]
     },
     "metadata": {},
     "output_type": "display_data"
    },
    {
     "data": {
      "text/plain": [
       "1//186313420339200000"
      ]
     },
     "execution_count": 7,
     "metadata": {},
     "output_type": "execute_result"
    }
   ],
   "source": [
    "@manipulate for n in 0:15\n",
    "    hilbert_rational(n)\n",
    "end\n",
    "det(hilbert_rational(5))"
   ]
  },
  {
   "cell_type": "code",
   "execution_count": 4,
   "metadata": {
    "collapsed": false,
    "deletable": true,
    "editable": true
   },
   "outputs": [
    {
     "data": {
      "text/html": [],
      "text/plain": [
       "Interact.Options{:SelectionSlider,Int64}(5: \"input-2\" = 7 Int64 , \"n\", 7, \"7\", Interact.OptionDict(DataStructures.OrderedDict(\"0\"=>0,\"1\"=>1,\"2\"=>2,\"3\"=>3,\"4\"=>4,\"5\"=>5,\"6\"=>6,\"7\"=>7,\"8\"=>8,\"9\"=>9…), Dict(2=>\"2\",11=>\"11\",0=>\"0\",7=>\"7\",9=>\"9\",10=>\"10\",8=>\"8\",6=>\"6\",4=>\"4\",3=>\"3\"…)), Any[], Any[], true, \"horizontal\")"
      ]
     },
     "metadata": {},
     "output_type": "display_data"
    },
    {
     "data": {
      "text/html": [],
      "text/plain": [
       "Interact.Options{:SelectionSlider,Int64}(7: \"input-3\" = 7 Int64 , \"k\", 7, \"7\", Interact.OptionDict(DataStructures.OrderedDict(\"0\"=>0,\"1\"=>1,\"2\"=>2,\"3\"=>3,\"4\"=>4,\"5\"=>5,\"6\"=>6,\"7\"=>7,\"8\"=>8,\"9\"=>9…), Dict(2=>\"2\",11=>\"11\",0=>\"0\",7=>\"7\",9=>\"9\",10=>\"10\",8=>\"8\",6=>\"6\",4=>\"4\",3=>\"3\"…)), Any[], Any[], true, \"horizontal\")"
      ]
     },
     "metadata": {},
     "output_type": "display_data"
    },
    {
     "data": {
      "text/plain": [
       "8-element Array{Rational{Int64},1}:\n",
       " 1//8 \n",
       " 1//9 \n",
       " 1//10\n",
       " 1//11\n",
       " 1//12\n",
       " 1//13\n",
       " 1//14\n",
       " 1//15"
      ]
     },
     "execution_count": 4,
     "metadata": {
      "comm_id": "2d45e895-dac4-4282-8f67-536879eb3f4c",
      "reactive": true
     },
     "output_type": "execute_result"
    }
   ],
   "source": [
    "@manipulate for n in 0:15, k in 0:15\n",
    "    φ_rational(n, k)\n",
    "end"
   ]
  },
  {
   "cell_type": "code",
   "execution_count": 5,
   "metadata": {
    "collapsed": false,
    "deletable": true,
    "editable": true
   },
   "outputs": [
    {
     "data": {
      "text/html": [],
      "text/plain": [
       "Interact.Options{:SelectionSlider,Int64}(11: \"input-4\" = 7 Int64 , \"n\", 7, \"7\", Interact.OptionDict(DataStructures.OrderedDict(\"0\"=>0,\"1\"=>1,\"2\"=>2,\"3\"=>3,\"4\"=>4,\"5\"=>5,\"6\"=>6,\"7\"=>7,\"8\"=>8,\"9\"=>9…), Dict(2=>\"2\",11=>\"11\",0=>\"0\",7=>\"7\",9=>\"9\",10=>\"10\",8=>\"8\",6=>\"6\",4=>\"4\",3=>\"3\"…)), Any[], Any[], true, \"horizontal\")"
      ]
     },
     "metadata": {},
     "output_type": "display_data"
    },
    {
     "data": {
      "text/html": [],
      "text/plain": [
       "Interact.Options{:SelectionSlider,Int64}(13: \"input-5\" = 7 Int64 , \"k\", 7, \"7\", Interact.OptionDict(DataStructures.OrderedDict(\"0\"=>0,\"1\"=>1,\"2\"=>2,\"3\"=>3,\"4\"=>4,\"5\"=>5,\"6\"=>6,\"7\"=>7,\"8\"=>8,\"9\"=>9…), Dict(2=>\"2\",11=>\"11\",0=>\"0\",7=>\"7\",9=>\"9\",10=>\"10\",8=>\"8\",6=>\"6\",4=>\"4\",3=>\"3\"…)), Any[], Any[], true, \"horizontal\")"
      ]
     },
     "metadata": {},
     "output_type": "display_data"
    },
    {
     "data": {
      "text/plain": [
       "8-element Array{Rational{Int64},1}:\n",
       " 0//1\n",
       " 0//1\n",
       " 0//1\n",
       " 0//1\n",
       " 0//1\n",
       " 0//1\n",
       " 0//1\n",
       " 1//1"
      ]
     },
     "execution_count": 5,
     "metadata": {
      "comm_id": "ca42c7b9-0289-43a8-b115-edacba9a9b5a",
      "reactive": true
     },
     "output_type": "execute_result"
    }
   ],
   "source": [
    "@manipulate for n in 0:15, k in 0:15\n",
    "    α = hilbert_rational(n)\\φ_rational(n, k)\n",
    "end"
   ]
  },
  {
   "cell_type": "markdown",
   "metadata": {
    "deletable": true,
    "editable": true
   },
   "source": [
    "Next, we repeat the experiment in floating-point arithmetic, and we see comes of the ill-conditioning of the Hilbert matrix."
   ]
  },
  {
   "cell_type": "code",
   "execution_count": 8,
   "metadata": {
    "collapsed": false,
    "deletable": true,
    "editable": true
   },
   "outputs": [
    {
     "name": "stderr",
     "output_type": "stream",
     "text": [
      "WARNING: imported binding for φ overwritten in module Main\n"
     ]
    },
    {
     "data": {
      "text/plain": [
       "(::#47) (generic function with 1 method)"
      ]
     },
     "execution_count": 8,
     "metadata": {},
     "output_type": "execute_result"
    }
   ],
   "source": [
    "hilbert = n -> 1./((0:n).+(0:n)'+1)\n",
    "φ = (n,k) -> 1./(k+1:k+n+1)"
   ]
  },
  {
   "cell_type": "code",
   "execution_count": 9,
   "metadata": {
    "collapsed": false,
    "deletable": true,
    "editable": true
   },
   "outputs": [
    {
     "data": {
      "text/html": [],
      "text/plain": [
       "Interact.Options{:SelectionSlider,Int64}(23: \"input-8\" = 7 Int64 , \"n\", 7, \"7\", Interact.OptionDict(DataStructures.OrderedDict(\"0\"=>0,\"1\"=>1,\"2\"=>2,\"3\"=>3,\"4\"=>4,\"5\"=>5,\"6\"=>6,\"7\"=>7,\"8\"=>8,\"9\"=>9…), Dict(2=>\"2\",11=>\"11\",0=>\"0\",7=>\"7\",9=>\"9\",10=>\"10\",8=>\"8\",6=>\"6\",4=>\"4\",3=>\"3\"…)), Any[], Any[], true, \"horizontal\")"
      ]
     },
     "metadata": {},
     "output_type": "display_data"
    },
    {
     "data": {
      "text/plain": [
       "8×8 Array{Float64,2}:\n",
       " 1.0       0.5       0.333333  0.25       …  0.166667   0.142857   0.125    \n",
       " 0.5       0.333333  0.25      0.2           0.142857   0.125      0.111111 \n",
       " 0.333333  0.25      0.2       0.166667      0.125      0.111111   0.1      \n",
       " 0.25      0.2       0.166667  0.142857      0.111111   0.1        0.0909091\n",
       " 0.2       0.166667  0.142857  0.125         0.1        0.0909091  0.0833333\n",
       " 0.166667  0.142857  0.125     0.111111   …  0.0909091  0.0833333  0.0769231\n",
       " 0.142857  0.125     0.111111  0.1           0.0833333  0.0769231  0.0714286\n",
       " 0.125     0.111111  0.1       0.0909091     0.0769231  0.0714286  0.0666667"
      ]
     },
     "execution_count": 9,
     "metadata": {
      "comm_id": "04d55ca8-92dc-4356-9827-6e0406414994",
      "reactive": true
     },
     "output_type": "execute_result"
    }
   ],
   "source": [
    "@manipulate for n in 0:15\n",
    "    hilbert(n)\n",
    "end"
   ]
  },
  {
   "cell_type": "code",
   "execution_count": 10,
   "metadata": {
    "collapsed": false,
    "deletable": true,
    "editable": true
   },
   "outputs": [
    {
     "data": {
      "text/html": [],
      "text/plain": [
       "Interact.Options{:SelectionSlider,Int64}(27: \"input-9\" = 7 Int64 , \"n\", 7, \"7\", Interact.OptionDict(DataStructures.OrderedDict(\"0\"=>0,\"1\"=>1,\"2\"=>2,\"3\"=>3,\"4\"=>4,\"5\"=>5,\"6\"=>6,\"7\"=>7,\"8\"=>8,\"9\"=>9…), Dict(2=>\"2\",11=>\"11\",0=>\"0\",7=>\"7\",9=>\"9\",10=>\"10\",8=>\"8\",6=>\"6\",4=>\"4\",3=>\"3\"…)), Any[], Any[], true, \"horizontal\")"
      ]
     },
     "metadata": {},
     "output_type": "display_data"
    },
    {
     "data": {
      "text/html": [],
      "text/plain": [
       "Interact.Options{:SelectionSlider,Int64}(29: \"input-10\" = 7 Int64 , \"k\", 7, \"7\", Interact.OptionDict(DataStructures.OrderedDict(\"0\"=>0,\"1\"=>1,\"2\"=>2,\"3\"=>3,\"4\"=>4,\"5\"=>5,\"6\"=>6,\"7\"=>7,\"8\"=>8,\"9\"=>9…), Dict(2=>\"2\",11=>\"11\",0=>\"0\",7=>\"7\",9=>\"9\",10=>\"10\",8=>\"8\",6=>\"6\",4=>\"4\",3=>\"3\"…)), Any[], Any[], true, \"horizontal\")"
      ]
     },
     "metadata": {},
     "output_type": "display_data"
    },
    {
     "data": {
      "text/plain": [
       "8-element Array{Float64,1}:\n",
       " 0.125    \n",
       " 0.111111 \n",
       " 0.1      \n",
       " 0.0909091\n",
       " 0.0833333\n",
       " 0.0769231\n",
       " 0.0714286\n",
       " 0.0666667"
      ]
     },
     "execution_count": 10,
     "metadata": {
      "comm_id": "d1dc446d-05e2-41f8-bfe6-d2ac3ff257da",
      "reactive": true
     },
     "output_type": "execute_result"
    }
   ],
   "source": [
    "@manipulate for n in 0:15, k in 0:15\n",
    "    φ(n, k)\n",
    "end"
   ]
  },
  {
   "cell_type": "code",
   "execution_count": 11,
   "metadata": {
    "collapsed": false,
    "deletable": true,
    "editable": true
   },
   "outputs": [
    {
     "data": {
      "text/html": [],
      "text/plain": [
       "Interact.Options{:SelectionSlider,Int64}(33: \"input-11\" = 15 Int64 , \"n\", 15, \"15\", Interact.OptionDict(DataStructures.OrderedDict(\"0\"=>0,\"1\"=>1,\"2\"=>2,\"3\"=>3,\"4\"=>4,\"5\"=>5,\"6\"=>6,\"7\"=>7,\"8\"=>8,\"9\"=>9…), Dict(18=>\"18\",30=>\"30\",2=>\"2\",16=>\"16\",11=>\"11\",21=>\"21\",0=>\"0\",7=>\"7\",9=>\"9\",10=>\"10\"…)), Any[], Any[], true, \"horizontal\")"
      ]
     },
     "metadata": {},
     "output_type": "display_data"
    },
    {
     "data": {
      "text/html": [],
      "text/plain": [
       "Interact.Options{:SelectionSlider,Int64}(35: \"input-12\" = 15 Int64 , \"k\", 15, \"15\", Interact.OptionDict(DataStructures.OrderedDict(\"0\"=>0,\"1\"=>1,\"2\"=>2,\"3\"=>3,\"4\"=>4,\"5\"=>5,\"6\"=>6,\"7\"=>7,\"8\"=>8,\"9\"=>9…), Dict(18=>\"18\",30=>\"30\",2=>\"2\",16=>\"16\",11=>\"11\",21=>\"21\",0=>\"0\",7=>\"7\",9=>\"9\",10=>\"10\"…)), Any[], Any[], true, \"horizontal\")"
      ]
     },
     "metadata": {},
     "output_type": "display_data"
    },
    {
     "data": {
      "text/plain": [
       "16-element Array{Float64,1}:\n",
       " -7.73102e-8 \n",
       "  1.22377e-5 \n",
       " -0.000475326\n",
       "  0.00789883 \n",
       " -0.069405   \n",
       "  0.355078   \n",
       " -1.08851    \n",
       "  1.89201    \n",
       " -1.26616    \n",
       " -1.46434    \n",
       "  3.33671    \n",
       " -0.886553   \n",
       " -3.50731    \n",
       "  4.59277    \n",
       " -2.36735    \n",
       "  1.46563    "
      ]
     },
     "execution_count": 11,
     "metadata": {
      "comm_id": "d4160de8-1544-4e84-8f7e-caa6749a63e7",
      "reactive": true
     },
     "output_type": "execute_result"
    }
   ],
   "source": [
    "@manipulate for n in 0:30, k in 0:30\n",
    "    α = hilbert(n)\\φ(n, k)\n",
    "end"
   ]
  },
  {
   "cell_type": "markdown",
   "metadata": {
    "collapsed": true,
    "deletable": true,
    "editable": true
   },
   "source": [
    "The result? Utter garbage."
   ]
  }
 ],
 "metadata": {
  "kernelspec": {
   "display_name": "Julia 0.6.1-pre",
   "language": "julia",
   "name": "julia-0.6"
  },
  "language_info": {
   "file_extension": ".jl",
   "mimetype": "application/julia",
   "name": "julia",
   "version": "0.6.1"
  }
 },
 "nbformat": 4,
 "nbformat_minor": 2
}
